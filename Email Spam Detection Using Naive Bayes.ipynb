{
 "cells": [
  {
   "cell_type": "markdown",
   "metadata": {},
   "source": [
    "# Implementing Naive Bayes Algorithm for Data Classification"
   ]
  },
  {
   "cell_type": "markdown",
   "metadata": {},
   "source": [
    "##### Fatemeh Razaqnejad\n",
    "Develop and test a Naive Bayes classifier to categorize data points in both continuous and discrete datasets using Gaussian, uniform, and binomial distributions."
   ]
  },
  {
   "cell_type": "markdown",
   "metadata": {},
   "source": [
    "#### Import necessary libraries"
   ]
  },
  {
   "cell_type": "code",
   "execution_count": null,
   "metadata": {},
   "outputs": [],
   "source": [
    "import pandas as pd\n",
    "from collections import defaultdict\n",
    "import numpy as np"
   ]
  },
  {
   "cell_type": "markdown",
   "metadata": {},
   "source": [
    "#### Load the data"
   ]
  },
  {
   "cell_type": "code",
   "execution_count": 1,
   "metadata": {},
   "outputs": [],
   "source": [
    "# Replace 'emails.csv' with the actual path to your dataset if necessary\n",
    "emails_data = pd.read_csv('emails.csv')"
   ]
  },
  {
   "cell_type": "markdown",
   "metadata": {},
   "source": [
    "#### Function to calculate word probabilities"
   ]
  },
  {
   "cell_type": "code",
   "execution_count": null,
   "metadata": {},
   "outputs": [],
   "source": [
    "def calculate_word_probs(data, label):\n",
    "    word_counts = defaultdict(int)\n",
    "    total_words = 0\n",
    "    \n",
    "    for email in data[data['spam'] == label]['text']:\n",
    "        words = email.split()\n",
    "        for word in words:\n",
    "            word_counts[word] += 1\n",
    "            total_words += 1\n",
    "    \n",
    "    word_probs = {word: (count + 1) / (total_words + len(word_counts)) for word, count in word_counts.items()}\n",
    "    return word_probs, total_words\n",
    "\n",
    "# Calculate probabilities for spam and not spam emails\n",
    "spam_word_probs, spam_total_words = calculate_word_probs(emails_data, 1)\n",
    "not_spam_word_probs, not_spam_total_words = calculate_word_probs(emails_data, 0)"
   ]
  },
  {
   "cell_type": "markdown",
   "metadata": {},
   "source": [
    "#### Function to classify an email based on word probabilities"
   ]
  },
  {
   "cell_type": "code",
   "execution_count": null,
   "metadata": {},
   "outputs": [],
   "source": [
    "def classify_email(email, spam_word_probs, not_spam_word_probs, spam_total_words, not_spam_total_words):\n",
    "    epsilon = 1e-10  # Small value to prevent zero probability\n",
    "    words = email.split()\n",
    "    \n",
    "    spam_prob = 1\n",
    "    not_spam_prob = 1\n",
    "    word_probs = {}\n",
    "    \n",
    "    for word in words:\n",
    "        spam_prob_word = spam_word_probs.get(word, epsilon)\n",
    "        not_spam_prob_word = not_spam_word_probs.get(word, epsilon)\n",
    "        \n",
    "        spam_prob *= spam_prob_word\n",
    "        not_spam_prob *= not_spam_prob_word\n",
    "        word_probs[word] = {\n",
    "            'spam_prob': spam_prob_word,\n",
    "            'not_spam_prob': not_spam_prob_word\n",
    "        }\n",
    "    \n",
    "    # Default class probabilities (assuming equal likelihood)\n",
    "    spam_prob *= len(spam_word_probs) / (len(spam_word_probs) + len(not_spam_word_probs))\n",
    "    not_spam_prob *= len(not_spam_word_probs) / (len(spam_word_probs) + len(not_spam_word_probs))\n",
    "    \n",
    "    result = 'spam' if spam_prob > not_spam_prob else 'not_spam'\n",
    "    return result, spam_prob, not_spam_prob, word_probs"
   ]
  },
  {
   "cell_type": "markdown",
   "metadata": {},
   "source": [
    "#### Function to get a sample email from the user"
   ]
  },
  {
   "cell_type": "code",
   "execution_count": null,
   "metadata": {},
   "outputs": [],
   "source": [
    "def get_sample_email():\n",
    "    return input(\"Please enter the sample email text: \")\n",
    "\n",
    "# Get sample email from user input\n",
    "sample_email = get_sample_email()"
   ]
  },
  {
   "cell_type": "markdown",
   "metadata": {},
   "source": [
    "#### Classify the sample email and print the results"
   ]
  },
  {
   "cell_type": "code",
   "execution_count": null,
   "metadata": {},
   "outputs": [],
   "source": [
    "predicted_label, spam_prob, not_spam_prob, word_probs = classify_email(sample_email, spam_word_probs, not_spam_word_probs, spam_total_words, not_spam_total_words)\n",
    "\n",
    "print(f'The predicted label for the email is: {predicted_label}\\n')\n",
    "print(f'Spam Probability: {spam_prob}')\n",
    "print(f'Not Spam Probability: {not_spam_prob}\\n')\n",
    "print('Detailed probabilities for each word:')\n",
    "for word, probs in word_probs.items():\n",
    "    print(f'Word \"{word}\":')\n",
    "    print(f\"  Spam Probability: {probs['spam_prob']}\")\n",
    "    print(f\"  Not Spam Probability: {probs['not_spam_prob']}\\n\")"
   ]
  }
 ],
 "metadata": {
  "kernelspec": {
   "display_name": "Python 3",
   "language": "python",
   "name": "python3"
  },
  "language_info": {
   "codemirror_mode": {
    "name": "ipython",
    "version": 3
   },
   "file_extension": ".py",
   "mimetype": "text/x-python",
   "name": "python",
   "nbconvert_exporter": "python",
   "pygments_lexer": "ipython3",
   "version": "3.9.4"
  }
 },
 "nbformat": 4,
 "nbformat_minor": 2
}
